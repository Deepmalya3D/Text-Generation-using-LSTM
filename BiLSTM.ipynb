{
  "cells": [
    {
      "cell_type": "code",
      "execution_count": null,
      "metadata": {
        "colab": {
          "base_uri": "https://localhost:8080/"
        },
        "id": "hrIk8Z5MTc7Y",
        "outputId": "2d6ebe73-b105-44d4-82c9-bfa0a17919a5"
      },
      "outputs": [
        {
          "name": "stdout",
          "output_type": "stream",
          "text": [
            "Mounted at /content/drive\n"
          ]
        }
      ],
      "source": [
        "from google.colab import drive\n",
        "drive.mount('/content/drive')"
      ]
    },
    {
      "cell_type": "markdown",
      "metadata": {
        "id": "45iC2n6O3ea8"
      },
      "source": [
        "### 1. Importing the Libraries"
      ]
    },
    {
      "cell_type": "code",
      "execution_count": 2,
      "metadata": {
        "execution": {
          "iopub.execute_input": "2023-04-05T18:28:25.250907Z",
          "iopub.status.busy": "2023-04-05T18:28:25.250359Z",
          "iopub.status.idle": "2023-04-05T18:28:27.924899Z",
          "shell.execute_reply": "2023-04-05T18:28:27.923843Z",
          "shell.execute_reply.started": "2023-04-05T18:28:25.250861Z"
        },
        "id": "_VpZOF9boWKo",
        "trusted": true
      },
      "outputs": [],
      "source": [
        "import numpy as np\n",
        "import matplotlib.pyplot as plt\n",
        "import json\n",
        "from os import listdir\n",
        "from os.path import isfile, join\n",
        "import string\n",
        "import re\n",
        "import pickle\n",
        "import gc\n",
        "import torch\n",
        "from torch import nn\n",
        "from tqdm import tqdm\n",
        "\n",
        "torch.manual_seed(1)\n",
        "np.random.seed(1)"
      ]
    },
    {
      "cell_type": "markdown",
      "metadata": {
        "id": "trOIDg7p3ebA"
      },
      "source": [
        "### 2. Extracting the Abstracts from the JSON files"
      ]
    },
    {
      "cell_type": "code",
      "execution_count": null,
      "metadata": {
        "id": "xY5KDI9ioWKp"
      },
      "outputs": [],
      "source": [
        "def extract_abstract(filename):\n",
        "    file = open(filename)\n",
        "    paper_content = json.load(file) \n",
        "    abstract = \"\"\n",
        "\n",
        "    if 'abstract' in paper_content:          # First we go through all the keys and check for 'abstract'\n",
        "        for bt in paper_content['abstract']:\n",
        "            abstract = abstract + bt['text']          # Next we need \"text\" part from the abstract. We add them to the corpus\n",
        "\n",
        "    return abstract.lower()"
      ]
    },
    {
      "cell_type": "code",
      "execution_count": null,
      "metadata": {
        "id": "JrVMXHakoWKq"
      },
      "outputs": [],
      "source": [
        "files = [f for f in listdir('./pdf_json/') if isfile(join('./pdf_json/', f))]      # list of all the files in the directory"
      ]
    },
    {
      "cell_type": "code",
      "execution_count": null,
      "metadata": {
        "id": "fObyUcoToWKq",
        "outputId": "6cadacdd-3cc4-4355-e6da-4fec1868dc47"
      },
      "outputs": [
        {
          "name": "stderr",
          "output_type": "stream",
          "text": [
            "100%|██████████| 56529/56529 [00:48<00:00, 1173.12it/s]\n"
          ]
        }
      ],
      "source": [
        "corpus_list = []\n",
        "\n",
        "for f in tqdm(files):\n",
        "    try:\n",
        "      corpus1 = extract_abstract('./pdf_json/' + f)\n",
        "      \n",
        "      # remove numbers\n",
        "      corpus1 = ''.join([_ for _ in corpus1 if not _.isdigit()])\n",
        "\n",
        "      # remove emails\n",
        "      corpus1 = re.sub(r\"\\S*@\\S*\\s?\",'', corpus1)\n",
        "\n",
        "      # remove punctuation except fullstop\n",
        "      remove = string.punctuation\n",
        "      remove = re.sub(r\"[.:-]+\", \"\", remove)\n",
        "      pattern = r\"[{}]\".format(remove + '-')\n",
        "      corpus1 = re.sub(pattern, \"\", corpus1)\n",
        "\n",
        "      # remove url\n",
        "      corpus1 = re.sub(r'http\\S+', '', corpus1)\n",
        "      \n",
        "      corpus_list.append(corpus1)\n",
        "    except:\n",
        "      continue"
      ]
    },
    {
      "cell_type": "markdown",
      "metadata": {
        "id": "sODaNWNw3ebC"
      },
      "source": [
        "### 3. Saving the Corpus in the Disk"
      ]
    },
    {
      "cell_type": "code",
      "execution_count": null,
      "metadata": {
        "id": "De1tkmEZoWKq",
        "outputId": "67eb886e-8b89-4773-ca85-8b36a4d67586"
      },
      "outputs": [
        {
          "name": "stderr",
          "output_type": "stream",
          "text": [
            "100%|██████████| 57412057/57412057 [00:14<00:00, 3860844.13it/s]\n"
          ]
        }
      ],
      "source": [
        "corpus = '\\n'.join(corpus_list)\n",
        "with open('corpus.txt', 'w', encoding='utf8') as text_file:\n",
        "    for _ in tqdm(corpus):\n",
        "        text_file.write(_)"
      ]
    },
    {
      "cell_type": "markdown",
      "metadata": {
        "id": "ckycFWK83ebC"
      },
      "source": [
        "- Removing the New Lines"
      ]
    },
    {
      "cell_type": "code",
      "execution_count": null,
      "metadata": {
        "id": "z0tXYaQNoWKr"
      },
      "outputs": [],
      "source": [
        "# Open the input file for reading\n",
        "with open('corpus.txt', 'r') as input_file:\n",
        "\n",
        "    # Open the output file for writing\n",
        "    with open('output.txt', 'w') as output_file:\n",
        "\n",
        "        # Loop through each line in the input file\n",
        "        for line in input_file:\n",
        "\n",
        "            # Remove the new line from the line\n",
        "            line = line.rstrip()\n",
        "\n",
        "            # Write the modified line to the output file\n",
        "            output_file.write(line)"
      ]
    },
    {
      "cell_type": "markdown",
      "metadata": {
        "id": "X0ynQQME3ebD"
      },
      "source": [
        "### 4. Preparing the Datasets"
      ]
    },
    {
      "cell_type": "code",
      "execution_count": null,
      "metadata": {
        "colab": {
          "base_uri": "https://localhost:8080/"
        },
        "execution": {
          "iopub.execute_input": "2023-04-05T18:28:46.623014Z",
          "iopub.status.busy": "2023-04-05T18:28:46.622508Z",
          "iopub.status.idle": "2023-04-05T18:28:46.684514Z",
          "shell.execute_reply": "2023-04-05T18:28:46.683281Z",
          "shell.execute_reply.started": "2023-04-05T18:28:46.622978Z"
        },
        "id": "9XLphvcXRvUv",
        "outputId": "6d2fd602-0d6d-4c1a-c425-54cab3c35d66",
        "trusted": true
      },
      "outputs": [
        {
          "data": {
            "text/plain": [
              "device(type='cuda')"
            ]
          },
          "execution_count": 2,
          "metadata": {},
          "output_type": "execute_result"
        }
      ],
      "source": [
        "# define device\n",
        "device = torch.device('cuda' if torch.cuda.is_available() else 'cpu')\n",
        "device"
      ]
    },
    {
      "cell_type": "code",
      "execution_count": null,
      "metadata": {
        "execution": {
          "iopub.execute_input": "2023-04-05T18:29:03.896914Z",
          "iopub.status.busy": "2023-04-05T18:29:03.896475Z",
          "iopub.status.idle": "2023-04-05T18:29:03.919913Z",
          "shell.execute_reply": "2023-04-05T18:29:03.918918Z",
          "shell.execute_reply.started": "2023-04-05T18:29:03.896872Z"
        },
        "id": "0fFywVisRvU0",
        "trusted": true
      },
      "outputs": [],
      "source": [
        "# Reading the abstract corpus\n",
        "with open('/content/drive/MyDrive/NLP/output.txt', 'r') as f:\n",
        "    text = f.read()\n",
        "\n",
        "words = text.split()"
      ]
    },
    {
      "cell_type": "code",
      "execution_count": null,
      "metadata": {
        "execution": {
          "iopub.execute_input": "2023-04-05T18:29:05.954688Z",
          "iopub.status.busy": "2023-04-05T18:29:05.953992Z",
          "iopub.status.idle": "2023-04-05T18:29:05.976437Z",
          "shell.execute_reply": "2023-04-05T18:29:05.975488Z",
          "shell.execute_reply.started": "2023-04-05T18:29:05.954648Z"
        },
        "id": "A057U0L4RvU1",
        "trusted": true
      },
      "outputs": [],
      "source": [
        "# creating a dictionary to keep track of the indices for all tokens in the vocab\n",
        "word_to_ix = {}\n",
        "for word in words:\n",
        "    if word not in word_to_ix:\n",
        "        word_to_ix[word] = len(word_to_ix)"
      ]
    },
    {
      "cell_type": "code",
      "execution_count": null,
      "metadata": {
        "colab": {
          "base_uri": "https://localhost:8080/"
        },
        "execution": {
          "iopub.execute_input": "2023-04-05T12:01:41.900501Z",
          "iopub.status.busy": "2023-04-05T12:01:41.900014Z",
          "iopub.status.idle": "2023-04-05T12:01:41.907231Z",
          "shell.execute_reply": "2023-04-05T12:01:41.906208Z",
          "shell.execute_reply.started": "2023-04-05T12:01:41.900450Z"
        },
        "id": "jibqRypKRvU1",
        "outputId": "2850c1fe-36b0-4e3d-e828-591b3b0c1ba0",
        "trusted": true
      },
      "outputs": [
        {
          "name": "stdout",
          "output_type": "stream",
          "text": [
            "Our vocabulary size is: 80492\n"
          ]
        }
      ],
      "source": [
        "vocab_size = len(word_to_ix)\n",
        "seq_length = 10\n",
        "print(\"Our vocabulary size is:\", vocab_size)"
      ]
    },
    {
      "cell_type": "code",
      "execution_count": null,
      "metadata": {
        "execution": {
          "iopub.execute_input": "2023-04-05T18:29:24.697984Z",
          "iopub.status.busy": "2023-04-05T18:29:24.697604Z",
          "iopub.status.idle": "2023-04-05T18:29:24.854800Z",
          "shell.execute_reply": "2023-04-05T18:29:24.853752Z",
          "shell.execute_reply.started": "2023-04-05T18:29:24.697949Z"
        },
        "id": "4ckui_MiRvU2",
        "trusted": true
      },
      "outputs": [],
      "source": [
        "inputs = []\n",
        "labels = []\n",
        "\n",
        "# Preparing the input & output labels. Using the previous n-length sequence we want to predict (n+1)th word\n",
        "for i in range(len(words) - seq_length):\n",
        "    inputs.append([word_to_ix[word] for word in words[i: i+seq_length]])\n",
        "    labels.append(word_to_ix[words[i+seq_length]])"
      ]
    },
    {
      "cell_type": "code",
      "execution_count": null,
      "metadata": {
        "execution": {
          "iopub.execute_input": "2023-04-05T18:29:27.254846Z",
          "iopub.status.busy": "2023-04-05T18:29:27.254481Z",
          "iopub.status.idle": "2023-04-05T18:29:29.900035Z",
          "shell.execute_reply": "2023-04-05T18:29:29.899005Z",
          "shell.execute_reply.started": "2023-04-05T18:29:27.254812Z"
        },
        "id": "ZwZ70cfIRvU4",
        "trusted": true
      },
      "outputs": [],
      "source": [
        "# Loading the input and output tensors to device (GPU)\n",
        "inputs = torch.tensor(inputs).to(device)\n",
        "labels = torch.tensor(labels).to(device)"
      ]
    },
    {
      "cell_type": "markdown",
      "metadata": {
        "id": "6FUp7_uQ3ebF"
      },
      "source": [
        "### 5. Creating the Model"
      ]
    },
    {
      "cell_type": "code",
      "execution_count": null,
      "metadata": {
        "execution": {
          "iopub.execute_input": "2023-04-05T18:29:33.513646Z",
          "iopub.status.busy": "2023-04-05T18:29:33.513080Z",
          "iopub.status.idle": "2023-04-05T18:29:33.524441Z",
          "shell.execute_reply": "2023-04-05T18:29:33.522780Z",
          "shell.execute_reply.started": "2023-04-05T18:29:33.513599Z"
        },
        "id": "rOQukU-RRvU4",
        "trusted": true
      },
      "outputs": [],
      "source": [
        "class BiLSTM(nn.Module):\n",
        "    '''\n",
        "    We will use bidirectional LSTM for our purpose with two layers\n",
        "    '''\n",
        "    def __init__(self, vocab_size, hidden_size):\n",
        "        super(BiLSTM, self).__init__()\n",
        "        self.embedding = nn.Embedding(vocab_size, hidden_size)\n",
        "        self.lstm = nn.LSTM(hidden_size, hidden_size, num_layers=2, bidirectional=True)\n",
        "        self.linear = nn.Linear(2*hidden_size, vocab_size)\n",
        "        \n",
        "    def forward(self, x):\n",
        "        embedded = self.embedding(x)\n",
        "        output, hidden = self.lstm(embedded.permute(1, 0, 2))\n",
        "        hidden_cat = torch.cat((hidden[-2][0], hidden[-1][0]), dim=1).to(device)\n",
        "        out = self.linear(hidden_cat)\n",
        "        return out"
      ]
    },
    {
      "cell_type": "markdown",
      "metadata": {
        "id": "9PpNxspu3ebF"
      },
      "source": [
        "### 6. Creating the Training Loop"
      ]
    },
    {
      "cell_type": "code",
      "execution_count": null,
      "metadata": {
        "execution": {
          "iopub.execute_input": "2023-04-05T18:29:39.642972Z",
          "iopub.status.busy": "2023-04-05T18:29:39.642371Z",
          "iopub.status.idle": "2023-04-05T18:29:39.651574Z",
          "shell.execute_reply": "2023-04-05T18:29:39.650180Z",
          "shell.execute_reply.started": "2023-04-05T18:29:39.642930Z"
        },
        "id": "eo0kCIgwRvU5",
        "trusted": true
      },
      "outputs": [],
      "source": [
        "def train(model, inputs, labels, num_epochs, batch_size, learning_rate):\n",
        "    loss_fn = nn.CrossEntropyLoss()                # We use the cross entropy loss\n",
        "    optimizer = torch.optim.Adam(model.parameters(), lr=learning_rate)\n",
        "    scheduler = torch.optim.lr_scheduler.CyclicLR(optimizer, base_lr=1e-5, max_lr=1e-3, mode='triangular2', cycle_momentum=False)         # We also use scheduler to update the learning rate cyclically\n",
        "    num_batches = len(inputs) // batch_size\n",
        "\n",
        "    epochs_list = []\n",
        "    train_loss_list = []\n",
        "    \n",
        "    for epoch in range(num_epochs):\n",
        "        total_loss = 0.0\n",
        "        for i in tqdm(range(num_batches)):\n",
        "            batch_inputs = inputs[i*batch_size: (i+1)*batch_size]\n",
        "            batch_labels = labels[i*batch_size: (i+1)*batch_size]\n",
        "            optimizer.zero_grad()\n",
        "            outputs = model(batch_inputs)\n",
        "            loss = loss_fn(outputs, batch_labels)\n",
        "            loss.backward()\n",
        "            optimizer.step()\n",
        "            total_loss += loss.item()\n",
        "        scheduler.step()\n",
        "\n",
        "        epochs_list.append(epoch)\n",
        "        train_loss_list.append(total_loss/num_batches)\n",
        "            \n",
        "        print(f\"Epoch: {epoch+1}/{num_epochs} | Loss: {total_loss/num_batches:.4f}\")\n",
        "    \n",
        "    return epochs_list, train_loss_list"
      ]
    },
    {
      "cell_type": "code",
      "execution_count": null,
      "metadata": {
        "execution": {
          "iopub.execute_input": "2023-04-05T18:29:44.457926Z",
          "iopub.status.busy": "2023-04-05T18:29:44.457557Z",
          "iopub.status.idle": "2023-04-05T18:29:44.462771Z",
          "shell.execute_reply": "2023-04-05T18:29:44.461708Z",
          "shell.execute_reply.started": "2023-04-05T18:29:44.457890Z"
        },
        "id": "QuZJ8KmeLnW2",
        "trusted": true
      },
      "outputs": [],
      "source": [
        "hidden_size = 128\n",
        "batch_size = 64\n",
        "learning_rate = 0.005\n",
        "num_epochs = 100"
      ]
    },
    {
      "cell_type": "markdown",
      "metadata": {
        "id": "DA-pg0eP3ebG"
      },
      "source": [
        "### 7. Training the Model"
      ]
    },
    {
      "cell_type": "code",
      "execution_count": null,
      "metadata": {
        "execution": {
          "iopub.execute_input": "2023-04-05T18:29:48.576166Z",
          "iopub.status.busy": "2023-04-05T18:29:48.575181Z",
          "iopub.status.idle": "2023-04-05T18:29:49.670207Z",
          "shell.execute_reply": "2023-04-05T18:29:49.669141Z",
          "shell.execute_reply.started": "2023-04-05T18:29:48.576114Z"
        },
        "id": "SN93mmDFRvU7",
        "trusted": true
      },
      "outputs": [],
      "source": [
        "model = BiLSTM(vocab_size, hidden_size).to(device)"
      ]
    },
    {
      "cell_type": "code",
      "execution_count": null,
      "metadata": {
        "colab": {
          "base_uri": "https://localhost:8080/"
        },
        "execution": {
          "iopub.execute_input": "2023-04-05T18:29:50.044293Z",
          "iopub.status.busy": "2023-04-05T18:29:50.043913Z",
          "iopub.status.idle": "2023-04-05T18:38:58.279930Z",
          "shell.execute_reply": "2023-04-05T18:38:58.278797Z",
          "shell.execute_reply.started": "2023-04-05T18:29:50.044257Z"
        },
        "id": "o_mRA18QRvU8",
        "outputId": "933d6ba9-9b8b-4a0d-f444-4701d7b0d678",
        "trusted": true
      },
      "outputs": [
        {
          "name": "stderr",
          "output_type": "stream",
          "text": [
            "100%|██████████| 23287/23287 [04:10<00:00, 93.97it/s]\n"
          ]
        },
        {
          "name": "stdout",
          "output_type": "stream",
          "text": [
            "Epoch: 1/100 | Loss: 5.4165\n"
          ]
        },
        {
          "name": "stderr",
          "output_type": "stream",
          "text": [
            "100%|██████████| 23287/23287 [04:09<00:00, 93.04it/s]\n"
          ]
        },
        {
          "name": "stdout",
          "output_type": "stream",
          "text": [
            "Epoch: 2/100 | Loss: 4.7049\n"
          ]
        },
        {
          "name": "stderr",
          "output_type": "stream",
          "text": [
            "100%|██████████| 23287/23287 [04:09<00:00, 93.58it/s]\n"
          ]
        },
        {
          "name": "stdout",
          "output_type": "stream",
          "text": [
            "Epoch: 3/100 | Loss: 4.3523\n"
          ]
        },
        {
          "name": "stderr",
          "output_type": "stream",
          "text": [
            "100%|██████████| 23287/23287 [04:09<00:00, 93.65it/s]\n"
          ]
        },
        {
          "name": "stdout",
          "output_type": "stream",
          "text": [
            "Epoch: 4/100 | Loss: 3.8078\n"
          ]
        },
        {
          "name": "stderr",
          "output_type": "stream",
          "text": [
            "100%|██████████| 23287/23287 [04:10<00:00, 93.20it/s]\n"
          ]
        },
        {
          "name": "stdout",
          "output_type": "stream",
          "text": [
            "Epoch: 5/100 | Loss: 3.3638\n"
          ]
        },
        {
          "name": "stderr",
          "output_type": "stream",
          "text": [
            "100%|██████████| 23287/23287 [04:09<00:00, 93.91it/s]\n"
          ]
        },
        {
          "name": "stdout",
          "output_type": "stream",
          "text": [
            "Epoch: 6/100 | Loss: 2.8237\n"
          ]
        },
        {
          "name": "stderr",
          "output_type": "stream",
          "text": [
            "100%|██████████| 23287/23287 [04:09<00:00, 93.57it/s]\n"
          ]
        },
        {
          "name": "stdout",
          "output_type": "stream",
          "text": [
            "Epoch: 7/100 | Loss: 2.7625\n"
          ]
        },
        {
          "name": "stderr",
          "output_type": "stream",
          "text": [
            "100%|██████████| 23287/23287 [04:09<00:00, 93.03it/s]\n"
          ]
        },
        {
          "name": "stdout",
          "output_type": "stream",
          "text": [
            "Epoch: 8/100 | Loss: 2.5958\n"
          ]
        },
        {
          "name": "stderr",
          "output_type": "stream",
          "text": [
            "100%|██████████| 23287/23287 [04:10<00:00, 93.31it/s]\n"
          ]
        },
        {
          "name": "stdout",
          "output_type": "stream",
          "text": [
            "Epoch: 9/100 | Loss: 1.9038\n"
          ]
        },
        {
          "name": "stderr",
          "output_type": "stream",
          "text": [
            "100%|██████████| 23287/23287 [04:09<00:00, 93.74it/s]\n"
          ]
        },
        {
          "name": "stdout",
          "output_type": "stream",
          "text": [
            "Epoch: 10/100 | Loss: 1.8202\n"
          ]
        },
        {
          "name": "stderr",
          "output_type": "stream",
          "text": [
            "100%|██████████| 23287/23287 [04:09<00:00, 93.76it/s]\n"
          ]
        },
        {
          "name": "stdout",
          "output_type": "stream",
          "text": [
            "Epoch: 11/100 | Loss: 1.7489\n"
          ]
        },
        {
          "name": "stderr",
          "output_type": "stream",
          "text": [
            "100%|██████████| 23287/23287 [04:10<00:00, 93.25it/s]\n"
          ]
        },
        {
          "name": "stdout",
          "output_type": "stream",
          "text": [
            "Epoch: 12/100 | Loss: 1.6443\n"
          ]
        },
        {
          "name": "stderr",
          "output_type": "stream",
          "text": [
            "100%|██████████| 23287/23287 [04:09<00:00, 93.11it/s]\n"
          ]
        },
        {
          "name": "stdout",
          "output_type": "stream",
          "text": [
            "Epoch: 13/100 | Loss: 1.5740\n"
          ]
        },
        {
          "name": "stderr",
          "output_type": "stream",
          "text": [
            "100%|██████████| 23287/23287 [04:09<00:00, 93.24it/s]\n"
          ]
        },
        {
          "name": "stdout",
          "output_type": "stream",
          "text": [
            "Epoch: 14/100 | Loss: 1.4428\n"
          ]
        },
        {
          "name": "stderr",
          "output_type": "stream",
          "text": [
            "100%|██████████| 23287/23287 [04:09<00:00, 93.47it/s]\n"
          ]
        },
        {
          "name": "stdout",
          "output_type": "stream",
          "text": [
            "Epoch: 15/100 | Loss: 1.3750\n"
          ]
        },
        {
          "name": "stderr",
          "output_type": "stream",
          "text": [
            "100%|██████████| 23287/23287 [04:09<00:00, 93.36it/s]\n"
          ]
        },
        {
          "name": "stdout",
          "output_type": "stream",
          "text": [
            "Epoch: 16/100 | Loss: 1.2340\n"
          ]
        },
        {
          "name": "stderr",
          "output_type": "stream",
          "text": [
            "100%|██████████| 23287/23287 [04:09<00:00, 93.39it/s]\n"
          ]
        },
        {
          "name": "stdout",
          "output_type": "stream",
          "text": [
            "Epoch: 17/100 | Loss: 1.2131\n"
          ]
        },
        {
          "name": "stderr",
          "output_type": "stream",
          "text": [
            "100%|██████████| 23287/23287 [04:11<00:00, 93.22it/s]\n"
          ]
        },
        {
          "name": "stdout",
          "output_type": "stream",
          "text": [
            "Epoch: 18/100 | Loss: 1.1812\n"
          ]
        },
        {
          "name": "stderr",
          "output_type": "stream",
          "text": [
            "100%|██████████| 23287/23287 [04:09<00:00, 93.52it/s]\n"
          ]
        },
        {
          "name": "stdout",
          "output_type": "stream",
          "text": [
            "Epoch: 19/100 | Loss: 1.1603\n"
          ]
        },
        {
          "name": "stderr",
          "output_type": "stream",
          "text": [
            "100%|██████████| 23287/23287 [04:09<00:00, 93.25it/s]\n"
          ]
        },
        {
          "name": "stdout",
          "output_type": "stream",
          "text": [
            "Epoch: 20/100 | Loss: 1.1340\n"
          ]
        },
        {
          "name": "stderr",
          "output_type": "stream",
          "text": [
            "100%|██████████| 23287/23287 [04:09<00:00, 93.91it/s]\n"
          ]
        },
        {
          "name": "stdout",
          "output_type": "stream",
          "text": [
            "Epoch: 21/100 | Loss: 1.1142\n"
          ]
        },
        {
          "name": "stderr",
          "output_type": "stream",
          "text": [
            "100%|██████████| 23287/23287 [04:09<00:00, 93.31it/s]\n"
          ]
        },
        {
          "name": "stdout",
          "output_type": "stream",
          "text": [
            "Epoch: 22/100 | Loss: 1.1056\n"
          ]
        },
        {
          "name": "stderr",
          "output_type": "stream",
          "text": [
            "100%|██████████| 23287/23287 [04:09<00:00, 93.99it/s]\n"
          ]
        },
        {
          "name": "stdout",
          "output_type": "stream",
          "text": [
            "Epoch: 23/100 | Loss: 1.0889\n"
          ]
        },
        {
          "name": "stderr",
          "output_type": "stream",
          "text": [
            "100%|██████████| 23287/23287 [04:09<00:00, 93.21it/s]\n"
          ]
        },
        {
          "name": "stdout",
          "output_type": "stream",
          "text": [
            "Epoch: 24/100 | Loss: 1.0709\n"
          ]
        },
        {
          "name": "stderr",
          "output_type": "stream",
          "text": [
            "100%|██████████| 23287/23287 [04:09<00:00, 93.04it/s]\n"
          ]
        },
        {
          "name": "stdout",
          "output_type": "stream",
          "text": [
            "Epoch: 25/100 | Loss: 1.0661\n"
          ]
        },
        {
          "name": "stderr",
          "output_type": "stream",
          "text": [
            "100%|██████████| 23287/23287 [04:09<00:00, 93.71it/s]\n"
          ]
        },
        {
          "name": "stdout",
          "output_type": "stream",
          "text": [
            "Epoch: 26/100 | Loss: 1.0541\n"
          ]
        },
        {
          "name": "stderr",
          "output_type": "stream",
          "text": [
            "100%|██████████| 23287/23287 [04:09<00:00, 93.76it/s]\n"
          ]
        },
        {
          "name": "stdout",
          "output_type": "stream",
          "text": [
            "Epoch: 27/100 | Loss: 1.0454\n"
          ]
        },
        {
          "name": "stderr",
          "output_type": "stream",
          "text": [
            "100%|██████████| 23287/23287 [04:11<00:00, 93.16it/s]\n"
          ]
        },
        {
          "name": "stdout",
          "output_type": "stream",
          "text": [
            "Epoch: 28/100 | Loss: 1.0363\n"
          ]
        },
        {
          "name": "stderr",
          "output_type": "stream",
          "text": [
            "100%|██████████| 23287/23287 [04:09<00:00, 93.12it/s]\n"
          ]
        },
        {
          "name": "stdout",
          "output_type": "stream",
          "text": [
            "Epoch: 29/100 | Loss: 1.0237\n"
          ]
        },
        {
          "name": "stderr",
          "output_type": "stream",
          "text": [
            "100%|██████████| 23287/23287 [04:09<00:00, 93.43it/s]\n"
          ]
        },
        {
          "name": "stdout",
          "output_type": "stream",
          "text": [
            "Epoch: 30/100 | Loss: 1.0153\n"
          ]
        },
        {
          "name": "stderr",
          "output_type": "stream",
          "text": [
            "100%|██████████| 23287/23287 [04:09<00:00, 93.81it/s]\n"
          ]
        },
        {
          "name": "stdout",
          "output_type": "stream",
          "text": [
            "Epoch: 31/100 | Loss: 1.0148\n"
          ]
        },
        {
          "name": "stderr",
          "output_type": "stream",
          "text": [
            "100%|██████████| 23287/23287 [04:10<00:00, 93.01it/s]\n"
          ]
        },
        {
          "name": "stdout",
          "output_type": "stream",
          "text": [
            "Epoch: 32/100 | Loss: 1.0148\n"
          ]
        },
        {
          "name": "stderr",
          "output_type": "stream",
          "text": [
            "100%|██████████| 23287/23287 [04:09<00:00, 93.38it/s]\n"
          ]
        },
        {
          "name": "stdout",
          "output_type": "stream",
          "text": [
            "Epoch: 33/100 | Loss: 1.0140\n"
          ]
        },
        {
          "name": "stderr",
          "output_type": "stream",
          "text": [
            "100%|██████████| 23287/23287 [04:09<00:00, 93.22it/s]\n"
          ]
        },
        {
          "name": "stdout",
          "output_type": "stream",
          "text": [
            "Epoch: 34/100 | Loss: 0.9931\n"
          ]
        },
        {
          "name": "stderr",
          "output_type": "stream",
          "text": [
            "100%|██████████| 23287/23287 [04:09<00:00, 93.73it/s]\n"
          ]
        },
        {
          "name": "stdout",
          "output_type": "stream",
          "text": [
            "Epoch: 35/100 | Loss: 0.9833\n"
          ]
        },
        {
          "name": "stderr",
          "output_type": "stream",
          "text": [
            "100%|██████████| 23287/23287 [04:09<00:00, 93.43it/s]\n"
          ]
        },
        {
          "name": "stdout",
          "output_type": "stream",
          "text": [
            "Epoch: 36/100 | Loss: 0.9975\n"
          ]
        },
        {
          "name": "stderr",
          "output_type": "stream",
          "text": [
            "100%|██████████| 23287/23287 [04:09<00:00, 93.92it/s]\n"
          ]
        },
        {
          "name": "stdout",
          "output_type": "stream",
          "text": [
            "Epoch: 37/100 | Loss: 0.9002\n"
          ]
        },
        {
          "name": "stderr",
          "output_type": "stream",
          "text": [
            "100%|██████████| 23287/23287 [04:08<00:00, 93.48it/s]\n"
          ]
        },
        {
          "name": "stdout",
          "output_type": "stream",
          "text": [
            "Epoch: 38/100 | Loss: 0.8784\n"
          ]
        },
        {
          "name": "stderr",
          "output_type": "stream",
          "text": [
            "100%|██████████| 23287/23287 [04:09<00:00, 93.05it/s]\n"
          ]
        },
        {
          "name": "stdout",
          "output_type": "stream",
          "text": [
            "Epoch: 39/100 | Loss: 0.8626\n"
          ]
        },
        {
          "name": "stderr",
          "output_type": "stream",
          "text": [
            "100%|██████████| 23287/23287 [04:10<00:00, 93.46it/s]\n"
          ]
        },
        {
          "name": "stdout",
          "output_type": "stream",
          "text": [
            "Epoch: 40/100 | Loss: 0.8559\n"
          ]
        },
        {
          "name": "stderr",
          "output_type": "stream",
          "text": [
            "100%|██████████| 23287/23287 [04:09<00:00, 93.05it/s]\n"
          ]
        },
        {
          "name": "stdout",
          "output_type": "stream",
          "text": [
            "Epoch: 41/100 | Loss: 0.8658\n"
          ]
        },
        {
          "name": "stderr",
          "output_type": "stream",
          "text": [
            "100%|██████████| 23287/23287 [04:09<00:00, 93.28it/s]\n"
          ]
        },
        {
          "name": "stdout",
          "output_type": "stream",
          "text": [
            "Epoch: 42/100 | Loss: 0.8746\n"
          ]
        },
        {
          "name": "stderr",
          "output_type": "stream",
          "text": [
            "100%|██████████| 23287/23287 [04:09<00:00, 93.35it/s]\n"
          ]
        },
        {
          "name": "stdout",
          "output_type": "stream",
          "text": [
            "Epoch: 43/100 | Loss: 0.8685\n"
          ]
        },
        {
          "name": "stderr",
          "output_type": "stream",
          "text": [
            "100%|██████████| 23287/23287 [04:09<00:00, 93.13it/s]\n"
          ]
        },
        {
          "name": "stdout",
          "output_type": "stream",
          "text": [
            "Epoch: 44/100 | Loss: 0.8553\n"
          ]
        },
        {
          "name": "stderr",
          "output_type": "stream",
          "text": [
            "100%|██████████| 23287/23287 [04:11<00:00, 93.23it/s]\n"
          ]
        },
        {
          "name": "stdout",
          "output_type": "stream",
          "text": [
            "Epoch: 45/100 | Loss: 0.8428\n"
          ]
        },
        {
          "name": "stderr",
          "output_type": "stream",
          "text": [
            "100%|██████████| 23287/23287 [04:09<00:00, 93.60it/s]\n"
          ]
        },
        {
          "name": "stdout",
          "output_type": "stream",
          "text": [
            "Epoch: 46/100 | Loss: 0.8493\n"
          ]
        },
        {
          "name": "stderr",
          "output_type": "stream",
          "text": [
            "100%|██████████| 23287/23287 [04:08<00:00, 93.51it/s]\n"
          ]
        },
        {
          "name": "stdout",
          "output_type": "stream",
          "text": [
            "Epoch: 47/100 | Loss: 0.8632\n"
          ]
        },
        {
          "name": "stderr",
          "output_type": "stream",
          "text": [
            "100%|██████████| 23287/23287 [04:08<00:00, 93.32it/s]\n"
          ]
        },
        {
          "name": "stdout",
          "output_type": "stream",
          "text": [
            "Epoch: 48/100 | Loss: 0.8557\n"
          ]
        },
        {
          "name": "stderr",
          "output_type": "stream",
          "text": [
            "100%|██████████| 23287/23287 [04:09<00:00, 93.81it/s]\n"
          ]
        },
        {
          "name": "stdout",
          "output_type": "stream",
          "text": [
            "Epoch: 49/100 | Loss: 0.8571\n"
          ]
        },
        {
          "name": "stderr",
          "output_type": "stream",
          "text": [
            "100%|██████████| 23287/23287 [04:09<00:00, 93.60it/s]\n"
          ]
        },
        {
          "name": "stdout",
          "output_type": "stream",
          "text": [
            "Epoch: 50/100 | Loss: 0.8431\n"
          ]
        },
        {
          "name": "stderr",
          "output_type": "stream",
          "text": [
            "100%|██████████| 23287/23287 [04:09<00:00, 93.92it/s]\n"
          ]
        },
        {
          "name": "stdout",
          "output_type": "stream",
          "text": [
            "Epoch: 51/100 | Loss: 0.8415\n"
          ]
        },
        {
          "name": "stderr",
          "output_type": "stream",
          "text": [
            "100%|██████████| 23287/23287 [04:09<00:00, 93.71it/s]\n"
          ]
        },
        {
          "name": "stdout",
          "output_type": "stream",
          "text": [
            "Epoch: 52/100 | Loss: 0.8277\n"
          ]
        },
        {
          "name": "stderr",
          "output_type": "stream",
          "text": [
            "100%|██████████| 23287/23287 [04:09<00:00, 93.54it/s]\n"
          ]
        },
        {
          "name": "stdout",
          "output_type": "stream",
          "text": [
            "Epoch: 53/100 | Loss: 0.7419\n"
          ]
        },
        {
          "name": "stderr",
          "output_type": "stream",
          "text": [
            "100%|██████████| 23287/23287 [04:09<00:00, 93.87it/s]\n"
          ]
        },
        {
          "name": "stdout",
          "output_type": "stream",
          "text": [
            "Epoch: 54/100 | Loss: 0.7435\n"
          ]
        },
        {
          "name": "stderr",
          "output_type": "stream",
          "text": [
            "100%|██████████| 23287/23287 [04:09<00:00, 93.57it/s]\n"
          ]
        },
        {
          "name": "stdout",
          "output_type": "stream",
          "text": [
            "Epoch: 55/100 | Loss: 0.7319\n"
          ]
        },
        {
          "name": "stderr",
          "output_type": "stream",
          "text": [
            "100%|██████████| 23287/23287 [04:09<00:00, 93.97it/s]\n"
          ]
        },
        {
          "name": "stdout",
          "output_type": "stream",
          "text": [
            "Epoch: 56/100 | Loss: 0.7332\n"
          ]
        },
        {
          "name": "stderr",
          "output_type": "stream",
          "text": [
            "100%|██████████| 23287/23287 [04:09<00:00, 93.43it/s]\n"
          ]
        },
        {
          "name": "stdout",
          "output_type": "stream",
          "text": [
            "Epoch: 57/100 | Loss: 0.7358\n"
          ]
        },
        {
          "name": "stderr",
          "output_type": "stream",
          "text": [
            "100%|██████████| 23287/23287 [04:10<00:00, 93.63it/s]\n"
          ]
        },
        {
          "name": "stdout",
          "output_type": "stream",
          "text": [
            "Epoch: 58/100 | Loss: 0.7350\n"
          ]
        },
        {
          "name": "stderr",
          "output_type": "stream",
          "text": [
            "100%|██████████| 23287/23287 [04:09<00:00, 93.77it/s]\n"
          ]
        },
        {
          "name": "stdout",
          "output_type": "stream",
          "text": [
            "Epoch: 59/100 | Loss: 0.7201\n"
          ]
        },
        {
          "name": "stderr",
          "output_type": "stream",
          "text": [
            "100%|██████████| 23287/23287 [04:09<00:00, 93.78it/s]\n"
          ]
        },
        {
          "name": "stdout",
          "output_type": "stream",
          "text": [
            "Epoch: 60/100 | Loss: 0.7248\n"
          ]
        },
        {
          "name": "stderr",
          "output_type": "stream",
          "text": [
            "100%|██████████| 23287/23287 [04:09<00:00, 93.69it/s]\n"
          ]
        },
        {
          "name": "stdout",
          "output_type": "stream",
          "text": [
            "Epoch: 61/100 | Loss: 0.6711\n"
          ]
        },
        {
          "name": "stderr",
          "output_type": "stream",
          "text": [
            "100%|██████████| 23287/23287 [04:09<00:00, 93.54it/s]\n"
          ]
        },
        {
          "name": "stdout",
          "output_type": "stream",
          "text": [
            "Epoch: 62/100 | Loss: 0.6712\n"
          ]
        },
        {
          "name": "stderr",
          "output_type": "stream",
          "text": [
            "100%|██████████| 23287/23287 [04:11<00:00, 93.93it/s]\n"
          ]
        },
        {
          "name": "stdout",
          "output_type": "stream",
          "text": [
            "Epoch: 63/100 | Loss: 0.6314\n"
          ]
        },
        {
          "name": "stderr",
          "output_type": "stream",
          "text": [
            "100%|██████████| 23287/23287 [04:09<00:00, 93.48it/s]\n"
          ]
        },
        {
          "name": "stdout",
          "output_type": "stream",
          "text": [
            "Epoch: 64/100 | Loss: 0.6222\n"
          ]
        },
        {
          "name": "stderr",
          "output_type": "stream",
          "text": [
            "100%|██████████| 23287/23287 [04:09<00:00, 93.02it/s]\n"
          ]
        },
        {
          "name": "stdout",
          "output_type": "stream",
          "text": [
            "Epoch: 65/100 | Loss: 0.5798\n"
          ]
        },
        {
          "name": "stderr",
          "output_type": "stream",
          "text": [
            "100%|██████████| 23287/23287 [04:09<00:00, 93.09it/s]\n"
          ]
        },
        {
          "name": "stdout",
          "output_type": "stream",
          "text": [
            "Epoch: 66/100 | Loss: 0.5449\n"
          ]
        },
        {
          "name": "stderr",
          "output_type": "stream",
          "text": [
            "100%|██████████| 23287/23287 [04:09<00:00, 93.40it/s]\n"
          ]
        },
        {
          "name": "stdout",
          "output_type": "stream",
          "text": [
            "Epoch: 67/100 | Loss: 0.5203\n"
          ]
        },
        {
          "name": "stderr",
          "output_type": "stream",
          "text": [
            "100%|██████████| 23287/23287 [04:10<00:00, 93.85it/s]\n"
          ]
        },
        {
          "name": "stdout",
          "output_type": "stream",
          "text": [
            "Epoch: 68/100 | Loss: 0.4932\n"
          ]
        },
        {
          "name": "stderr",
          "output_type": "stream",
          "text": [
            "100%|██████████| 23287/23287 [04:09<00:00, 93.93it/s]\n"
          ]
        },
        {
          "name": "stdout",
          "output_type": "stream",
          "text": [
            "Epoch: 69/100 | Loss: 0.4817\n"
          ]
        },
        {
          "name": "stderr",
          "output_type": "stream",
          "text": [
            "100%|██████████| 23287/23287 [04:10<00:00, 93.92it/s]\n"
          ]
        },
        {
          "name": "stdout",
          "output_type": "stream",
          "text": [
            "Epoch: 70/100 | Loss: 0.4740\n"
          ]
        },
        {
          "name": "stderr",
          "output_type": "stream",
          "text": [
            "100%|██████████| 23287/23287 [04:09<00:00, 93.33it/s]\n"
          ]
        },
        {
          "name": "stdout",
          "output_type": "stream",
          "text": [
            "Epoch: 71/100 | Loss: 0.4627\n"
          ]
        },
        {
          "name": "stderr",
          "output_type": "stream",
          "text": [
            "100%|██████████| 23287/23287 [04:09<00:00, 93.81it/s]\n"
          ]
        },
        {
          "name": "stdout",
          "output_type": "stream",
          "text": [
            "Epoch: 72/100 | Loss: 0.4572\n"
          ]
        },
        {
          "name": "stderr",
          "output_type": "stream",
          "text": [
            "100%|██████████| 23287/23287 [04:09<00:00, 93.29it/s]\n"
          ]
        },
        {
          "name": "stdout",
          "output_type": "stream",
          "text": [
            "Epoch: 73/100 | Loss: 0.4487\n"
          ]
        },
        {
          "name": "stderr",
          "output_type": "stream",
          "text": [
            "100%|██████████| 23287/23287 [04:09<00:00, 93.83it/s]\n"
          ]
        },
        {
          "name": "stdout",
          "output_type": "stream",
          "text": [
            "Epoch: 74/100 | Loss: 0.4318\n"
          ]
        },
        {
          "name": "stderr",
          "output_type": "stream",
          "text": [
            "100%|██████████| 23287/23287 [04:09<00:00, 93.88it/s]\n"
          ]
        },
        {
          "name": "stdout",
          "output_type": "stream",
          "text": [
            "Epoch: 75/100 | Loss: 0.4109\n"
          ]
        },
        {
          "name": "stderr",
          "output_type": "stream",
          "text": [
            "100%|██████████| 23287/23287 [04:10<00:00, 93.64it/s]\n"
          ]
        },
        {
          "name": "stdout",
          "output_type": "stream",
          "text": [
            "Epoch: 76/100 | Loss: 0.4085\n"
          ]
        },
        {
          "name": "stderr",
          "output_type": "stream",
          "text": [
            "100%|██████████| 23287/23287 [04:09<00:00, 93.23it/s]\n"
          ]
        },
        {
          "name": "stdout",
          "output_type": "stream",
          "text": [
            "Epoch: 77/100 | Loss: 0.3932\n"
          ]
        },
        {
          "name": "stderr",
          "output_type": "stream",
          "text": [
            "100%|██████████| 23287/23287 [04:09<00:00, 93.25it/s]\n"
          ]
        },
        {
          "name": "stdout",
          "output_type": "stream",
          "text": [
            "Epoch: 78/100 | Loss: 0.3973\n"
          ]
        },
        {
          "name": "stderr",
          "output_type": "stream",
          "text": [
            "100%|██████████| 23287/23287 [04:09<00:00, 93.10it/s]\n"
          ]
        },
        {
          "name": "stdout",
          "output_type": "stream",
          "text": [
            "Epoch: 79/100 | Loss: 0.3835\n"
          ]
        },
        {
          "name": "stderr",
          "output_type": "stream",
          "text": [
            "100%|██████████| 23287/23287 [04:09<00:00, 93.87it/s]\n"
          ]
        },
        {
          "name": "stdout",
          "output_type": "stream",
          "text": [
            "Epoch: 80/100 | Loss: 0.3775\n"
          ]
        },
        {
          "name": "stderr",
          "output_type": "stream",
          "text": [
            "100%|██████████| 23287/23287 [04:09<00:00, 93.72it/s]\n"
          ]
        },
        {
          "name": "stdout",
          "output_type": "stream",
          "text": [
            "Epoch: 81/100 | Loss: 0.3601\n"
          ]
        },
        {
          "name": "stderr",
          "output_type": "stream",
          "text": [
            "100%|██████████| 23287/23287 [04:09<00:00, 93.29it/s]\n"
          ]
        },
        {
          "name": "stdout",
          "output_type": "stream",
          "text": [
            "Epoch: 82/100 | Loss: 0.3633\n"
          ]
        },
        {
          "name": "stderr",
          "output_type": "stream",
          "text": [
            "100%|██████████| 23287/23287 [04:10<00:00, 93.88it/s]\n"
          ]
        },
        {
          "name": "stdout",
          "output_type": "stream",
          "text": [
            "Epoch: 83/100 | Loss: 0.3532\n"
          ]
        },
        {
          "name": "stderr",
          "output_type": "stream",
          "text": [
            "100%|██████████| 23287/23287 [04:09<00:00, 93.62it/s]\n"
          ]
        },
        {
          "name": "stdout",
          "output_type": "stream",
          "text": [
            "Epoch: 84/100 | Loss: 0.3421\n"
          ]
        },
        {
          "name": "stderr",
          "output_type": "stream",
          "text": [
            "100%|██████████| 23287/23287 [04:09<00:00, 93.16it/s]\n"
          ]
        },
        {
          "name": "stdout",
          "output_type": "stream",
          "text": [
            "Epoch: 85/100 | Loss: 0.3347\n"
          ]
        },
        {
          "name": "stderr",
          "output_type": "stream",
          "text": [
            "100%|██████████| 23287/23287 [04:09<00:00, 93.95it/s]\n"
          ]
        },
        {
          "name": "stdout",
          "output_type": "stream",
          "text": [
            "Epoch: 86/100 | Loss: 0.3298\n"
          ]
        },
        {
          "name": "stderr",
          "output_type": "stream",
          "text": [
            "100%|██████████| 23287/23287 [04:09<00:00, 93.39it/s]\n"
          ]
        },
        {
          "name": "stdout",
          "output_type": "stream",
          "text": [
            "Epoch: 87/100 | Loss: 0.3102\n"
          ]
        },
        {
          "name": "stderr",
          "output_type": "stream",
          "text": [
            "100%|██████████| 23287/23287 [04:09<00:00, 93.68it/s]\n"
          ]
        },
        {
          "name": "stdout",
          "output_type": "stream",
          "text": [
            "Epoch: 88/100 | Loss: 0.3017\n"
          ]
        },
        {
          "name": "stderr",
          "output_type": "stream",
          "text": [
            "100%|██████████| 23287/23287 [04:09<00:00, 93.05it/s]\n"
          ]
        },
        {
          "name": "stdout",
          "output_type": "stream",
          "text": [
            "Epoch: 89/100 | Loss: 0.2929\n"
          ]
        },
        {
          "name": "stderr",
          "output_type": "stream",
          "text": [
            "100%|██████████| 23287/23287 [04:10<00:00, 93.65it/s]\n"
          ]
        },
        {
          "name": "stdout",
          "output_type": "stream",
          "text": [
            "Epoch: 90/100 | Loss: 0.3006\n"
          ]
        },
        {
          "name": "stderr",
          "output_type": "stream",
          "text": [
            "100%|██████████| 23287/23287 [04:09<00:00, 93.34it/s]\n"
          ]
        },
        {
          "name": "stdout",
          "output_type": "stream",
          "text": [
            "Epoch: 91/100 | Loss: 0.2979\n"
          ]
        },
        {
          "name": "stderr",
          "output_type": "stream",
          "text": [
            "100%|██████████| 23287/23287 [04:09<00:00, 93.13it/s]\n"
          ]
        },
        {
          "name": "stdout",
          "output_type": "stream",
          "text": [
            "Epoch: 92/100 | Loss: 0.2875\n"
          ]
        },
        {
          "name": "stderr",
          "output_type": "stream",
          "text": [
            "100%|██████████| 23287/23287 [04:09<00:00, 93.61it/s]\n"
          ]
        },
        {
          "name": "stdout",
          "output_type": "stream",
          "text": [
            "Epoch: 93/100 | Loss: 0.2955\n"
          ]
        },
        {
          "name": "stderr",
          "output_type": "stream",
          "text": [
            "100%|██████████| 23287/23287 [04:09<00:00, 93.43it/s]\n"
          ]
        },
        {
          "name": "stdout",
          "output_type": "stream",
          "text": [
            "Epoch: 94/100 | Loss: 0.2946\n"
          ]
        },
        {
          "name": "stderr",
          "output_type": "stream",
          "text": [
            "100%|██████████| 23287/23287 [04:09<00:00, 93.40it/s]\n"
          ]
        },
        {
          "name": "stdout",
          "output_type": "stream",
          "text": [
            "Epoch: 95/100 | Loss: 0.2858\n"
          ]
        },
        {
          "name": "stderr",
          "output_type": "stream",
          "text": [
            "100%|██████████| 23287/23287 [04:10<00:00, 93.02it/s]\n"
          ]
        },
        {
          "name": "stdout",
          "output_type": "stream",
          "text": [
            "Epoch: 96/100 | Loss: 0.2979\n"
          ]
        },
        {
          "name": "stderr",
          "output_type": "stream",
          "text": [
            "100%|██████████| 23287/23287 [04:10<00:00, 93.25it/s]\n"
          ]
        },
        {
          "name": "stdout",
          "output_type": "stream",
          "text": [
            "Epoch: 97/100 | Loss: 0.2982\n"
          ]
        },
        {
          "name": "stderr",
          "output_type": "stream",
          "text": [
            "100%|██████████| 23287/23287 [04:09<00:00, 93.04it/s]\n"
          ]
        },
        {
          "name": "stdout",
          "output_type": "stream",
          "text": [
            "Epoch: 98/100 | Loss: 0.2732\n"
          ]
        },
        {
          "name": "stderr",
          "output_type": "stream",
          "text": [
            "100%|██████████| 23287/23287 [04:09<00:00, 93.70it/s]\n"
          ]
        },
        {
          "name": "stdout",
          "output_type": "stream",
          "text": [
            "Epoch: 99/100 | Loss: 0.2882\n"
          ]
        },
        {
          "name": "stderr",
          "output_type": "stream",
          "text": [
            "100%|██████████| 23287/23287 [04:09<00:00, 93.82it/s]"
          ]
        },
        {
          "name": "stdout",
          "output_type": "stream",
          "text": [
            "Epoch: 100/100 | Loss: 0.2859\n"
          ]
        },
        {
          "name": "stderr",
          "output_type": "stream",
          "text": [
            "\n"
          ]
        }
      ],
      "source": [
        "epochs_list, train_loss_list = train(model, inputs, labels, num_epochs, batch_size, learning_rate)"
      ]
    },
    {
      "cell_type": "markdown",
      "metadata": {
        "id": "E0PBaxAy3ebG"
      },
      "source": [
        "### 8. Saving the Model Weights in the Disk"
      ]
    },
    {
      "cell_type": "code",
      "execution_count": null,
      "metadata": {
        "execution": {
          "iopub.execute_input": "2023-04-05T18:38:58.282437Z",
          "iopub.status.busy": "2023-04-05T18:38:58.282029Z",
          "iopub.status.idle": "2023-04-05T18:38:58.328602Z",
          "shell.execute_reply": "2023-04-05T18:38:58.327608Z",
          "shell.execute_reply.started": "2023-04-05T18:38:58.282398Z"
        },
        "id": "eLWiH1BCTSyf",
        "trusted": true
      },
      "outputs": [],
      "source": [
        "torch.save(model.state_dict(), f = './model.pth')"
      ]
    },
    {
      "cell_type": "code",
      "execution_count": null,
      "metadata": {
        "execution": {
          "iopub.execute_input": "2023-04-05T18:38:58.330735Z",
          "iopub.status.busy": "2023-04-05T18:38:58.330304Z",
          "iopub.status.idle": "2023-04-05T18:38:58.450221Z",
          "shell.execute_reply": "2023-04-05T18:38:58.449151Z",
          "shell.execute_reply.started": "2023-04-05T18:38:58.330692Z"
        },
        "id": "Uh084tBS3ebH",
        "outputId": "d6e3ab99-cb16-43a4-f3e8-b50354dec825",
        "trusted": true
      },
      "outputs": [
        {
          "data": {
            "text/plain": [
              "46"
            ]
          },
          "execution_count": 14,
          "metadata": {},
          "output_type": "execute_result"
        }
      ],
      "source": [
        "with open('epochs_list.pkl', 'wb') as f:\n",
        "    pickle.dump(epochs_list, f)\n",
        "with open('train_loss_list.pkl', 'wb') as f:\n",
        "    pickle.dump(train_loss_list, f)\n",
        "gc.collect()"
      ]
    },
    {
      "cell_type": "markdown",
      "metadata": {
        "id": "OV_KG5473ebH"
      },
      "source": [
        "### 9. Loading the Weights to the Model"
      ]
    },
    {
      "cell_type": "code",
      "execution_count": null,
      "metadata": {
        "colab": {
          "base_uri": "https://localhost:8080/"
        },
        "id": "zGwdG9J2J0_d",
        "outputId": "1b2b49a4-8db9-465d-bd7b-9805a0a76fa9"
      },
      "outputs": [
        {
          "data": {
            "text/plain": [
              "BiLSTM(\n",
              "  (embedding): Embedding(80492, 128)\n",
              "  (lstm): LSTM(128, 128, num_layers=2, bidirectional=True)\n",
              "  (linear): Linear(in_features=256, out_features=80492, bias=True)\n",
              ")"
            ]
          },
          "execution_count": 34,
          "metadata": {},
          "output_type": "execute_result"
        }
      ],
      "source": [
        "model = BiLSTM(vocab_size, hidden_size).to(device).load_state_dict(torch.load('./model.pth'))\n",
        "model.eval()"
      ]
    },
    {
      "cell_type": "code",
      "execution_count": null,
      "metadata": {},
      "outputs": [],
      "source": [
        "with open('./epochs_list.pkl', 'rb') as f:\n",
        "    epochs_list = pickle.load(f)\n",
        "with open('./train_loss_list.pkl', 'rb') as f:\n",
        "    train_loss_list = pickle.load(f)"
      ]
    },
    {
      "cell_type": "markdown",
      "metadata": {
        "id": "GMwVm-zd3ebI"
      },
      "source": [
        "### 10. Plotting the Loss Function for the Training"
      ]
    },
    {
      "cell_type": "code",
      "execution_count": 23,
      "metadata": {
        "execution": {
          "iopub.execute_input": "2023-04-05T18:38:58.453725Z",
          "iopub.status.busy": "2023-04-05T18:38:58.453348Z",
          "iopub.status.idle": "2023-04-05T18:38:58.677970Z",
          "shell.execute_reply": "2023-04-05T18:38:58.676995Z",
          "shell.execute_reply.started": "2023-04-05T18:38:58.453688Z"
        },
        "id": "GZM-XmuIoWKv",
        "outputId": "64f0b20d-741b-4db8-e9d8-0ee3af26c387",
        "trusted": true
      },
      "outputs": [
        {
          "data": {
            "image/png": "[encoded data removed]",
            "text/plain": [
              "<Figure size 640x480 with 1 Axes>"
            ]
          },
          "metadata": {},
          "output_type": "display_data"
        }
      ],
      "source": [
        "import matplotlib.pyplot as plt\n",
        "plt.plot(epochs_list, train_loss_list, label = \"training loss\")\n",
        "plt.xlabel(\"epochs\")\n",
        "plt.legend()\n",
        "plt.show()"
      ]
    },
    {
      "cell_type": "markdown",
      "metadata": {
        "id": "m-ysAZNd3ebI"
      },
      "source": [
        "### 11. Generating New Abstract using Seed Text"
      ]
    },
    {
      "cell_type": "code",
      "execution_count": null,
      "metadata": {
        "execution": {
          "iopub.execute_input": "2023-04-05T18:38:58.680142Z",
          "iopub.status.busy": "2023-04-05T18:38:58.679512Z",
          "iopub.status.idle": "2023-04-05T18:38:58.687849Z",
          "shell.execute_reply": "2023-04-05T18:38:58.686894Z",
          "shell.execute_reply.started": "2023-04-05T18:38:58.680102Z"
        },
        "id": "d48iPjjgRvU9",
        "trusted": true
      },
      "outputs": [],
      "source": [
        "def generate_abstract(model, seed_text, num_words):\n",
        "    model.eval()\n",
        "    with torch.no_grad():\n",
        "        words = seed_text.split()\n",
        "        for i in range(num_words):\n",
        "            inputs = torch.tensor([[word_to_ix[word] for word in words[-seq_length: ]]]).to(device)\n",
        "            outputs = model(inputs)\n",
        "            _, predicted = torch.max(outputs, dim=1)             # Getting the best prediction for the next word\n",
        "            predicted_word = [k for k, v in word_to_ix.items() if v == predicted.item()][0]\n",
        "            words.append(predicted_word)\n",
        "            \n",
        "    return ' '.join(words)"
      ]
    },
    {
      "cell_type": "markdown",
      "metadata": {
        "id": "h8GxyQU93ebJ"
      },
      "source": [
        "#### Example 1"
      ]
    },
    {
      "cell_type": "code",
      "execution_count": null,
      "metadata": {
        "execution": {
          "iopub.execute_input": "2023-04-05T18:38:58.689767Z",
          "iopub.status.busy": "2023-04-05T18:38:58.689243Z",
          "iopub.status.idle": "2023-04-05T18:39:04.205974Z",
          "shell.execute_reply": "2023-04-05T18:39:04.204835Z",
          "shell.execute_reply.started": "2023-04-05T18:38:58.689726Z"
        },
        "id": "QA7dY1UfRvU-",
        "outputId": "4be759f3-9fd2-4076-95f2-50810f3926b6",
        "trusted": true
      },
      "outputs": [
        {
          "name": "stdout",
          "output_type": "stream",
          "text": [
            "signs of covid patients include rapid evaluation. the physical and emotional symptoms that individuals infected with may experience any of the total symptoms. symptoms worsen or if there is difficulty breathing needed to be admitted to the hospital ward and released after care.\n"
          ]
        }
      ],
      "source": [
        "seed_text = \"signs of covid\"\n",
        "generated_abstract_1 = generate_abstract(model, seed_text, num_words=40)\n",
        "print(generated_abstract_1)"
      ]
    },
    {
      "cell_type": "markdown",
      "metadata": {
        "id": "gNYyn0Zk3ebK"
      },
      "source": [
        "#### Example 2"
      ]
    },
    {
      "cell_type": "code",
      "execution_count": null,
      "metadata": {
        "execution": {
          "iopub.execute_input": "2023-04-05T18:39:04.211346Z",
          "iopub.status.busy": "2023-04-05T18:39:04.210283Z",
          "iopub.status.idle": "2023-04-05T18:39:09.324988Z",
          "shell.execute_reply": "2023-04-05T18:39:09.323787Z",
          "shell.execute_reply.started": "2023-04-05T18:39:04.211302Z"
        },
        "id": "tXZOovVDRvU_",
        "outputId": "7db214e4-e1ea-4525-c157-fc7020fd5dd5",
        "trusted": true
      },
      "outputs": [
        {
          "name": "stdout",
          "output_type": "stream",
          "text": [
            "number of cases covid is rising the number of confirmed cases has surpassed millions. having limited related efficacy in humans after a single complications result a reduction in covid mortality. nevertheless questions rise around the affordability and underfunding of other parts of healthcare system\n"
          ]
        }
      ],
      "source": [
        "seed_text = \"number of cases\"\n",
        "generated_abstract_2 = generate_abstract(model, seed_text, num_words=40)\n",
        "print(generated_abstract_2)"
      ]
    },
    {
      "cell_type": "markdown",
      "metadata": {
        "id": "LI6Xtwae3ebK"
      },
      "source": [
        "#### Example 3"
      ]
    },
    {
      "cell_type": "code",
      "execution_count": null,
      "metadata": {
        "execution": {
          "iopub.execute_input": "2023-04-05T18:39:09.327018Z",
          "iopub.status.busy": "2023-04-05T18:39:09.326630Z",
          "iopub.status.idle": "2023-04-05T18:39:14.482148Z",
          "shell.execute_reply": "2023-04-05T18:39:14.481009Z",
          "shell.execute_reply.started": "2023-04-05T18:39:09.326979Z"
        },
        "id": "helHXmph3ebK",
        "outputId": "494c60b5-63d8-4532-a997-317f00c199b9",
        "trusted": true
      },
      "outputs": [
        {
          "name": "stdout",
          "output_type": "stream",
          "text": [
            "it also spreads easily together through respiratory droplets coughs sneeze. study shows that a increased cftr response to the ongoing spread as well as increased overcrowding and healthcare costs. however direct admission may reduce the risks of spreading the infection at a rapid\n"
          ]
        }
      ],
      "source": [
        "seed_text = \"it also spreads\"\n",
        "generated_abstract_3 = generate_abstract(model, seed_text, num_words=40)\n",
        "print(generated_abstract_3)"
      ]
    }
  ],
  "metadata": {
    "accelerator": "GPU",
    "colab": {
      "provenance": []
    },
    "gpuClass": "standard",
    "kernelspec": {
      "display_name": "Python 3",
      "language": "python",
      "name": "python3"
    },
    "language_info": {
      "codemirror_mode": {
        "name": "ipython",
        "version": 3
      },
      "file_extension": ".py",
      "mimetype": "text/x-python",
      "name": "python",
      "nbconvert_exporter": "python",
      "pygments_lexer": "ipython3",
      "version": "3.9.6"
    }
  },
  "nbformat": 4,
  "nbformat_minor": 0
}
